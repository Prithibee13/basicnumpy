{
  "nbformat": 4,
  "nbformat_minor": 0,
  "metadata": {
    "colab": {
      "name": "basicnum.ipynb",
      "provenance": [],
      "authorship_tag": "ABX9TyM9z1PYUr/B4u2G9cbOgUuO",
      "include_colab_link": true
    },
    "kernelspec": {
      "name": "python3",
      "display_name": "Python 3"
    },
    "language_info": {
      "name": "python"
    }
  },
  "cells": [
    {
      "cell_type": "markdown",
      "metadata": {
        "id": "view-in-github",
        "colab_type": "text"
      },
      "source": [
        "<a href=\"https://colab.research.google.com/github/Prithibee13/basicnumpy/blob/main/basicnum.ipynb\" target=\"_parent\"><img src=\"https://colab.research.google.com/assets/colab-badge.svg\" alt=\"Open In Colab\"/></a>"
      ]
    },
    {
      "cell_type": "code",
      "metadata": {
        "colab": {
          "base_uri": "https://localhost:8080/"
        },
        "id": "K2Lvp2hJowq9",
        "outputId": "b87d6290-cde8-402a-ad02-01dc548f572e"
      },
      "source": [
        "import numpy as num\n",
        "\n",
        "A = num.array(42)\n",
        "B = num.array([1,2,3,4,5])\n",
        "C = num.array([[1,2,3,4,5],[10,20,30,40,50]])\n",
        "D = num.array([[[1,2,3,4,5],[10,20,30,40,50]],[[100,200,300,400,500],[1000,2000,3000,4000,5000]]])\n",
        "E = num.array([1,2,3,4,5],ndmin=5)\n",
        "F = num.array([1,2,3,4,5], dtype='S')\n",
        "G = num.array([1,2,3,4,5], dtype='i4')\n",
        "H = num.array([1.1,2.2,3.3,4.4,5.5])\n",
        "I = num.array([0,1,0,2])\n",
        "\n",
        "newH = H.astype(int)\n",
        "NewI = I.astype(bool)\n",
        "\n",
        "\n",
        "print(A)\n",
        "print(B)\n",
        "print(C)\n",
        "print(D)\n",
        "print(E)\n",
        "print(A.ndim)\n",
        "print(B.ndim)\n",
        "print(C.ndim)\n",
        "print(D.ndim)\n",
        "print(B[0])\n",
        "print(B[2]+B[3])\n",
        "print(C[0,1])\n",
        "print(C[1,4])\n",
        "print(D[0,1,2])\n",
        "print(C[-0,-1])\n",
        "print(B[1:5])\n",
        "print(B[4:])\n",
        "print(B[:4])\n",
        "print(B[-3:-1])\n",
        "print(B[1:5:2])\n",
        "print(B[::2])\n",
        "print(C[1, 1:4])\n",
        "print(C[0:2, 2])\n",
        "print(C[0:2, 0:3])\n",
        "print(B.dtype)\n",
        "print(F)\n",
        "print(F.dtype)\n",
        "print(G)\n",
        "print(G.dtype)\n",
        "print(newH)\n",
        "print(NewI)"
      ],
      "execution_count": null,
      "outputs": [
        {
          "output_type": "stream",
          "text": [
            "42\n",
            "[1 2 3 4 5]\n",
            "[[ 1  2  3  4  5]\n",
            " [10 20 30 40 50]]\n",
            "[[[   1    2    3    4    5]\n",
            "  [  10   20   30   40   50]]\n",
            "\n",
            " [[ 100  200  300  400  500]\n",
            "  [1000 2000 3000 4000 5000]]]\n",
            "[[[[[1 2 3 4 5]]]]]\n",
            "0\n",
            "1\n",
            "2\n",
            "3\n",
            "1\n",
            "7\n",
            "2\n",
            "50\n",
            "30\n",
            "5\n",
            "[2 3 4 5]\n",
            "[5]\n",
            "[1 2 3 4]\n",
            "[3 4]\n",
            "[2 4]\n",
            "[1 3 5]\n",
            "[20 30 40]\n",
            "[ 3 30]\n",
            "[[ 1  2  3]\n",
            " [10 20 30]]\n",
            "int64\n",
            "[b'1' b'2' b'3' b'4' b'5']\n",
            "|S1\n",
            "[1 2 3 4 5]\n",
            "int32\n",
            "[1 2 3 4 5]\n",
            "[False  True False  True]\n"
          ],
          "name": "stdout"
        }
      ]
    }
  ]
}